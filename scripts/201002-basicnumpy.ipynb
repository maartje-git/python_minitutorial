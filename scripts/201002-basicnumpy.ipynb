{
 "cells": [
  {
   "cell_type": "markdown",
   "id": "acting-peninsula",
   "metadata": {},
   "source": [
    "# Python mini-tutorial\n",
    "### provided by Matthew Humphreys\n",
    "\n",
    "#### 201002\n",
    "\n",
    "#### basic numpy\n",
    "##### import data, pulling out certain columns, making a subset (slice)"
   ]
  },
  {
   "cell_type": "code",
   "execution_count": 3,
   "id": "allied-sight",
   "metadata": {},
   "outputs": [],
   "source": [
    "# import numpy\n",
    "# numpy offers comprehensive mathematical functions, random number generators, linear algebra routines, Fourier transforms, and more. For dealing with large n-dimensional arrays\n",
    "import numpy as np"
   ]
  },
  {
   "cell_type": "code",
   "execution_count": 6,
   "id": "caroline-burner",
   "metadata": {},
   "outputs": [
    {
     "name": "stdout",
     "output_type": "stream",
     "text": [
      "[25.1, 12.3, 6.8]\n",
      "[25.1 12.3  6.8]\n"
     ]
    }
   ],
   "source": [
    "t_list = [25.1,12.3,6.8]\n",
    "t=np.array(t_list)\n",
    "print(t_list)\n",
    "print(t)"
   ]
  },
  {
   "cell_type": "code",
   "execution_count": 7,
   "id": "complete-nevada",
   "metadata": {},
   "outputs": [],
   "source": [
    "# import text in a super basic way\n",
    "data = np.genfromtxt('../raw_data/titration1.txt', skip_header=2)\n",
    "# skip header skips the names of the columns, 2 lines in this case.\n",
    "# you can also skip specific rows =[1,5,6]"
   ]
  },
  {
   "cell_type": "code",
   "execution_count": 10,
   "id": "alert-carrier",
   "metadata": {},
   "outputs": [
    {
     "name": "stdout",
     "output_type": "stream",
     "text": [
      "[0.   0.15 0.3  0.45 0.6  0.75 0.9  1.05 1.2  1.35 1.5  1.65 1.8  1.95\n",
      " 2.1  2.25 2.4  2.55 2.7  2.85 3.   3.15 3.3  3.45 3.6  3.75 3.9  4.05]\n",
      "[169.95 194.55 222.15 240.5  253.65 264.   272.55 280.05 287.6  295.05\n",
      " 303.1  312.2  323.05 337.65 361.55 396.6  417.9  430.15 438.6  444.9\n",
      " 449.9  454.2  457.9  461.05 463.95 466.5  468.8  470.9 ]\n"
     ]
    }
   ],
   "source": [
    "# pull out individual columns slice => (data[row,column])\n",
    "vol = data[:,0]\n",
    "emf = data[:,1]\n",
    "\n",
    "print(vol)\n",
    "print(emf)"
   ]
  },
  {
   "cell_type": "code",
   "execution_count": 12,
   "id": "aggregate-citizen",
   "metadata": {},
   "outputs": [],
   "source": [
    "# Use logical indexing to pull out subsets of the data\n",
    "next_step = (emf >300) & (emf<400)\n",
    "all_next_step = data[next_step, :]\n",
    "vol_next_step = vol[next_step]\n",
    "emf_next_step = emf[next_step]\n",
    "# This is efficient (both in computation time, and amount of code)\n",
    "# This is robust - it still works when you change the input file\n",
    "# without numpy it would look like this: emf_next_list = [e for e in emf if e > 300 and e < 400]\n",
    "# The pure Python (i.e. not NumPy) equivalent is \"list comprehension\"\n",
    "# It's a cool tool but much slower and can be harder to understand"
   ]
  },
  {
   "cell_type": "code",
   "execution_count": 13,
   "id": "operational-lawrence",
   "metadata": {},
   "outputs": [],
   "source": [
    "# Using positional indexing works too... \n",
    "vol_next_v2 = vol[15:16]\n",
    "emf_next_v2 = emf[10:16]\n",
    "# but this is very \"brittle\", it breaks if you switch to a different input file."
   ]
  },
  {
   "cell_type": "code",
   "execution_count": 14,
   "id": "administrative-trick",
   "metadata": {},
   "outputs": [
    {
     "name": "stdout",
     "output_type": "stream",
     "text": [
      "[   0.       29.1825   66.645   108.225   152.19    198.      245.295\n",
      "  294.0525  345.12    398.3175  454.65    515.13    581.49    658.4175\n",
      "  759.255   892.35   1002.96   1096.8825 1184.22   1267.965  1349.7\n",
      " 1430.73   1511.07   1590.6225 1670.22   1749.375  1828.32   1907.145 ]\n"
     ]
    }
   ],
   "source": [
    "# some basic calculations\n",
    "volxemf = vol * emf\n",
    "print(volxemf)"
   ]
  },
  {
   "cell_type": "code",
   "execution_count": 15,
   "id": "psychological-cowboy",
   "metadata": {},
   "outputs": [
    {
     "name": "stdout",
     "output_type": "stream",
     "text": [
      "[[  1.5  303.1   25.  ]\n",
      " [  1.65 312.2   25.  ]\n",
      " [  1.8  323.05  25.  ]\n",
      " [  1.95 337.65  25.  ]\n",
      " [  2.1  361.55  25.  ]\n",
      " [  2.25 396.6   25.  ]]\n"
     ]
    }
   ],
   "source": [
    "data_next_step = data[next_step, :]\n",
    "print(data_next_step)"
   ]
  }
 ],
 "metadata": {
  "kernelspec": {
   "display_name": "Python 3",
   "language": "python",
   "name": "python3"
  },
  "language_info": {
   "codemirror_mode": {
    "name": "ipython",
    "version": 3
   },
   "file_extension": ".py",
   "mimetype": "text/x-python",
   "name": "python",
   "nbconvert_exporter": "python",
   "pygments_lexer": "ipython3",
   "version": "3.6.12"
  }
 },
 "nbformat": 4,
 "nbformat_minor": 5
}
